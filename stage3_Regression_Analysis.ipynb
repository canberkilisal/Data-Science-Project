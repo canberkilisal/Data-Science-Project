{
 "cells": [
  {
   "cell_type": "code",
   "execution_count": 2,
   "id": "a5488a4b",
   "metadata": {},
   "outputs": [],
   "source": [
    "import pandas as pd\n",
    "from datetime import datetime, timedelta\n",
    "import os\n",
    "from sklearn.linear_model import Lasso\n",
    "from sklearn.model_selection import train_test_split\n",
    "from sklearn.metrics import mean_squared_error"
   ]
  },
  {
   "cell_type": "code",
   "execution_count": 18,
   "id": "d50a52a8",
   "metadata": {
    "scrolled": false
   },
   "outputs": [
    {
     "name": "stdout",
     "output_type": "stream",
     "text": [
      "Mean Squared Error between Gasoline price and average speed in Avrupa is : 15.058472650392785\n",
      "Coefficients between Gasoline price and average speed in Avrupa is : [-0.08916213]\n",
      "\n",
      "\n",
      "Mean Squared Error between Diesel price and average speed in Avrupa is : 14.812052883446855\n",
      "Coefficients between Diesel price and average speed in Avrupa is : [-0.06651567]\n",
      "\n",
      "\n",
      "Mean Squared Error between Gasoline price and average speed in Anadolu is : 11.086462599552133\n",
      "Coefficients between Gasoline price and average speed in Anadolu is : [-0.1100173]\n",
      "\n",
      "\n",
      "Mean Squared Error between Diesel price and average speed in Anadolu is : 9.25443205765316\n",
      "Coefficients between Diesel price and average speed in Anadolu is : [-0.09254431]\n",
      "\n",
      "\n"
     ]
    }
   ],
   "source": [
    "directory_traffic = 'ibb_data_byDay_ANADOLU_AVRUPA'\n",
    "directory_price = 'petrol_prices'\n",
    "\n",
    "for cont in ['AVRUPA', 'ANADOLU']:\n",
    "    temp_df_columns = ['DATE', 'RESULT']\n",
    "    temp_traffic_df = pd.DataFrame(columns=temp_df_columns)\n",
    "\n",
    "    start_date = datetime.strptime(\"2020-01-01\", \"%Y-%m-%d\")\n",
    "    end_date = datetime.strptime(\"2022-12-31\", \"%Y-%m-%d\")\n",
    "\n",
    "    current_date = start_date\n",
    "    while current_date <= end_date:\n",
    "        formatted_date = current_date.strftime(\"%Y-%m-%d\")\n",
    "        temp_traffic_df.loc[len(temp_traffic_df)] = [formatted_date, 0.0]\n",
    "        current_date += timedelta(days=1)\n",
    "        \n",
    "    sub_dir = os.path.join(directory_traffic, cont)\n",
    "    df_price = pd.read_csv(os.path.join(directory_price, f'{cont}.csv'))\n",
    "    for file in os.listdir(sub_dir):\n",
    "        df_traffic = pd.read_csv(os.path.join(sub_dir, file))\n",
    "        temp_traffic_df['RESULT'] += df_traffic['RESULT']\n",
    "    \n",
    "    if cont == 'AVRUPA':\n",
    "        temp_traffic_df['RESULT'] = temp_traffic_df['RESULT']/25\n",
    "    else:\n",
    "        temp_traffic_df['RESULT'] = temp_traffic_df['RESULT']/13\n",
    "        \n",
    "    for price in ['GASOLINE_PRICE', 'DIESEL_PRICE']:    \n",
    "        y=temp_traffic_df.drop(temp_traffic_df.index[0])['RESULT']\n",
    "        X=df_price.drop(df_price.index[[0, -1]])[[price]].values.reshape(-1, 1)\n",
    "\n",
    "        X_train, X_test, y_train, y_test = train_test_split(X, y, test_size=0.2)\n",
    "\n",
    "        lasso = Lasso(alpha=0.1)\n",
    "        lasso.fit(X_train, y_train)\n",
    "\n",
    "        y_pred = lasso.predict(X_test)\n",
    "\n",
    "        mse = mean_squared_error(y_test, y_pred)\n",
    "        print(f\"Mean Squared Error between {price[:-6].capitalize()} price and average speed in {cont.capitalize()} is : {mse}\")\n",
    "\n",
    "        coefficients = lasso.coef_\n",
    "        print(f\"Coefficients between {price[:-6].capitalize()} price and average speed in {cont.capitalize()} is : {coefficients}\")\n",
    "    \n",
    "        print('\\n')"
   ]
  },
  {
   "cell_type": "code",
   "execution_count": null,
   "id": "cc2c3ad6",
   "metadata": {},
   "outputs": [],
   "source": []
  }
 ],
 "metadata": {
  "kernelspec": {
   "display_name": "Python 3 (ipykernel)",
   "language": "python",
   "name": "python3"
  },
  "language_info": {
   "codemirror_mode": {
    "name": "ipython",
    "version": 3
   },
   "file_extension": ".py",
   "mimetype": "text/x-python",
   "name": "python",
   "nbconvert_exporter": "python",
   "pygments_lexer": "ipython3",
   "version": "3.10.9"
  }
 },
 "nbformat": 4,
 "nbformat_minor": 5
}
