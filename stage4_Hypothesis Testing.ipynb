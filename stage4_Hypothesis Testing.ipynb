{
 "cells": [
  {
   "cell_type": "code",
   "execution_count": 5,
   "id": "a7681ea7",
   "metadata": {},
   "outputs": [],
   "source": [
    "import pandas as pd\n",
    "from datetime import datetime, timedelta\n",
    "import os\n",
    "from sklearn.model_selection import train_test_split\n",
    "import statsmodels.api as sm"
   ]
  },
  {
   "cell_type": "code",
   "execution_count": 8,
   "id": "ddff4151",
   "metadata": {},
   "outputs": [
    {
     "name": "stdout",
     "output_type": "stream",
     "text": [
      "P-Value: 1.2668149717927922e-06\n",
      "Reject the null hypotesis!\n",
      "There is a relation between Gasoline price and average speed in Avrupa.\n",
      "\n",
      "\n",
      "P-Value: 4.514771077171582e-06\n",
      "Reject the null hypotesis!\n",
      "There is a relation between Diesel price and average speed in Avrupa.\n",
      "\n",
      "\n",
      "P-Value: 2.7192036590267928e-15\n",
      "Reject the null hypotesis!\n",
      "There is a relation between Gasoline price and average speed in Anadolu.\n",
      "\n",
      "\n",
      "P-Value: 7.821532833678752e-15\n",
      "Reject the null hypotesis!\n",
      "There is a relation between Diesel price and average speed in Anadolu.\n",
      "\n",
      "\n"
     ]
    }
   ],
   "source": [
    "directory_traffic = 'ibb_data_byDay_ANADOLU_AVRUPA'\n",
    "directory_price = 'petrol_prices'\n",
    "alpha = 0.05\n",
    "\n",
    "for cont in ['AVRUPA', 'ANADOLU']:\n",
    "    temp_df_columns = ['DATE', 'RESULT']\n",
    "    temp_traffic_df = pd.DataFrame(columns=temp_df_columns)\n",
    "\n",
    "    start_date = datetime.strptime(\"2020-01-01\", \"%Y-%m-%d\")\n",
    "    end_date = datetime.strptime(\"2022-12-31\", \"%Y-%m-%d\")\n",
    "\n",
    "    current_date = start_date\n",
    "    while current_date <= end_date:\n",
    "        formatted_date = current_date.strftime(\"%Y-%m-%d\")\n",
    "        temp_traffic_df.loc[len(temp_traffic_df)] = [formatted_date, 0.0]\n",
    "        current_date += timedelta(days=1)\n",
    "        \n",
    "    sub_dir = os.path.join(directory_traffic, cont)\n",
    "    df_price = pd.read_csv(os.path.join(directory_price, f'{cont}.csv'))\n",
    "    for file in os.listdir(sub_dir):\n",
    "        df_traffic = pd.read_csv(os.path.join(sub_dir, file))\n",
    "        temp_traffic_df['RESULT'] += df_traffic['RESULT']\n",
    "    \n",
    "    if cont == 'AVRUPA':\n",
    "        temp_traffic_df['RESULT'] = temp_traffic_df['RESULT']/25\n",
    "    else:\n",
    "        temp_traffic_df['RESULT'] = temp_traffic_df['RESULT']/13\n",
    "        \n",
    "    for price in ['GASOLINE_PRICE', 'DIESEL_PRICE']:    \n",
    "        y=temp_traffic_df.drop(temp_traffic_df.index[0])['RESULT']\n",
    "        X=df_price.drop(df_price.index[[0, -1]])[[price]].values.reshape(-1, 1)\n",
    "\n",
    "        X_train, X_test, y_train, y_test = train_test_split(X, y, test_size=0.2, random_state=42)\n",
    "\n",
    "        X_with_constant = sm.add_constant(X)\n",
    "\n",
    "        model = sm.OLS(y, X_with_constant)\n",
    "        results = model.fit()\n",
    "\n",
    "        f_statistic = results.fvalue\n",
    "        p_value = results.f_pvalue\n",
    "\n",
    "        print(\"P-Value:\", p_value)\n",
    "        if p_value < alpha:\n",
    "            print(\"Reject the null hypotesis!\")\n",
    "            print(f\"There is a relation between {price[:-6].capitalize()} price and average speed in {cont.capitalize()}.\")\n",
    "        else:\n",
    "            print(\"Null hypotesis is true!\")\n",
    "            print(f\"There is no relation between {price[:-6].capitalize()} price and average speed in {cont.capitalize()}.\")\n",
    "        print('\\n')"
   ]
  },
  {
   "cell_type": "code",
   "execution_count": null,
   "id": "4bdbdd70",
   "metadata": {},
   "outputs": [],
   "source": []
  }
 ],
 "metadata": {
  "kernelspec": {
   "display_name": "Python 3 (ipykernel)",
   "language": "python",
   "name": "python3"
  },
  "language_info": {
   "codemirror_mode": {
    "name": "ipython",
    "version": 3
   },
   "file_extension": ".py",
   "mimetype": "text/x-python",
   "name": "python",
   "nbconvert_exporter": "python",
   "pygments_lexer": "ipython3",
   "version": "3.10.9"
  }
 },
 "nbformat": 4,
 "nbformat_minor": 5
}
